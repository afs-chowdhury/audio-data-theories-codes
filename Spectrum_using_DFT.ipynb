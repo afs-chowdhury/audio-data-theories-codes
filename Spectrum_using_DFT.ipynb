{
 "cells": [
  {
   "cell_type": "code",
   "execution_count": 34,
   "id": "b80b07de-0d53-4559-ad3c-92bc15d693e0",
   "metadata": {},
   "outputs": [],
   "source": [
    "# importing libraries\n",
    "\n",
    "import torch\n",
    "import torchaudio\n",
    "import os\n",
    "import numpy as np\n",
    "import matplotlib.pyplot as plt"
   ]
  },
  {
   "cell_type": "code",
   "execution_count": 10,
   "id": "054292fc-dda6-451d-a511-9d393f7786bf",
   "metadata": {},
   "outputs": [],
   "source": [
    "# data directory path defining\n",
    "\n",
    "DATA_DIR = \"audio\"\n",
    "SAX_C4_DIR = \"sax_c4.wav\"\n",
    "PIANO_C5 = \"piano_c_5.wav\"\n",
    "VIOLIN_C4 = \"violin_c_4.wav\"\n",
    "NOISE = \"noise.wav\""
   ]
  },
  {
   "cell_type": "code",
   "execution_count": 22,
   "id": "7c1a2b3d-4e99-4acb-b25a-98c68172daba",
   "metadata": {},
   "outputs": [],
   "source": [
    "# defining utility function to extract waveform and sr form file path \n",
    "def waveform_extractor(file_path):\n",
    "    waveform, sr = torchaudio.load(os.path.join(DATA_DIR,file_path))\n",
    "    return waveform, sr"
   ]
  },
  {
   "cell_type": "code",
   "execution_count": 19,
   "id": "df9c4c82-3750-4bb5-824e-5f7d52b12f3b",
   "metadata": {},
   "outputs": [],
   "source": [
    "sax_c4, s_sr =waveform_extractor(SAX_C4_DIR)\n",
    "piano_c5, p_sr = waveform_extractor(PIANO_C5)\n",
    "violin_c4, v_sr = waveform_extractor(VIOLIN_C4)\n",
    "noise, n_sr = waveform_extractor(NOISE)"
   ]
  },
  {
   "cell_type": "code",
   "execution_count": 20,
   "id": "51c2d722-dcf5-49df-b68a-b8453c8242e1",
   "metadata": {},
   "outputs": [
    {
     "data": {
      "text/plain": [
       "torch.Size([2, 57618])"
      ]
     },
     "execution_count": 20,
     "metadata": {},
     "output_type": "execute_result"
    }
   ],
   "source": [
    "# checking shape of sax c4 note \n",
    "sax_c4.shape"
   ]
  },
  {
   "cell_type": "markdown",
   "id": "368b1b26-37b6-4670-abaf-a958f862c581",
   "metadata": {},
   "source": [
    "Looks like it is a sterio sound file as it contains two channels "
   ]
  },
  {
   "cell_type": "code",
   "execution_count": 51,
   "id": "63846a4e-bd46-430c-9a28-d551ae1d86b1",
   "metadata": {},
   "outputs": [
    {
     "data": {
      "text/plain": [
       "torch.Size([2, 67936])"
      ]
     },
     "execution_count": 51,
     "metadata": {},
     "output_type": "execute_result"
    }
   ],
   "source": [
    "# shape of piano c5 note\n",
    "piano_c5.shape"
   ]
  },
  {
   "cell_type": "code",
   "execution_count": 14,
   "id": "b868ed7e-97f7-4c24-b701-94eee1bce571",
   "metadata": {},
   "outputs": [
    {
     "data": {
      "text/plain": [
       "True"
      ]
     },
     "execution_count": 14,
     "metadata": {},
     "output_type": "execute_result"
    }
   ],
   "source": [
    "s_sr == p_sr == v_sr "
   ]
  },
  {
   "cell_type": "code",
   "execution_count": 16,
   "id": "158e1928-0e9a-443f-919b-f541a038dd10",
   "metadata": {},
   "outputs": [
    {
     "data": {
      "text/plain": [
       "44100"
      ]
     },
     "execution_count": 16,
     "metadata": {},
     "output_type": "execute_result"
    }
   ],
   "source": [
    " p_sr"
   ]
  },
  {
   "cell_type": "code",
   "execution_count": 15,
   "id": "71659ece-faf3-4142-a006-3484d1fb0188",
   "metadata": {},
   "outputs": [
    {
     "data": {
      "text/plain": [
       "48000"
      ]
     },
     "execution_count": 15,
     "metadata": {},
     "output_type": "execute_result"
    }
   ],
   "source": [
    "n_sr"
   ]
  },
  {
   "cell_type": "markdown",
   "id": "346aaf03-c975-482d-8474-0944139c3bee",
   "metadata": {},
   "source": [
    "### We will be using FAST FOURIER TRANSFORM \n"
   ]
  },
  {
   "cell_type": "code",
   "execution_count": 24,
   "id": "ebe2a527-96a2-4fa2-9d14-3890ce4d37e8",
   "metadata": {},
   "outputs": [],
   "source": [
    "sax_fft = np.fft.fft(sax_c4)"
   ]
  },
  {
   "cell_type": "code",
   "execution_count": 25,
   "id": "417b1887-b15b-497a-bfbc-00a6185916e0",
   "metadata": {},
   "outputs": [
    {
     "data": {
      "text/plain": [
       "dtype('complex128')"
      ]
     },
     "execution_count": 25,
     "metadata": {},
     "output_type": "execute_result"
    }
   ],
   "source": [
    "sax_fft.dtype"
   ]
  },
  {
   "cell_type": "code",
   "execution_count": 27,
   "id": "5ec491f5-674d-4426-97a3-c38ff6041302",
   "metadata": {},
   "outputs": [
    {
     "data": {
      "text/plain": [
       "((2, 57618), torch.Size([2, 57618]))"
      ]
     },
     "execution_count": 27,
     "metadata": {},
     "output_type": "execute_result"
    }
   ],
   "source": [
    "sax_fft.shape , sax_c4.shape"
   ]
  },
  {
   "cell_type": "code",
   "execution_count": 31,
   "id": "adf497eb-aef1-47a1-8f31-f84955866699",
   "metadata": {},
   "outputs": [
    {
     "data": {
      "text/plain": [
       "(-3.45867919921875+0j)"
      ]
     },
     "execution_count": 31,
     "metadata": {},
     "output_type": "execute_result"
    }
   ],
   "source": [
    "sax_fft[0][0]"
   ]
  },
  {
   "cell_type": "code",
   "execution_count": 32,
   "id": "baaeb3b4-1e16-4f6e-9937-f676e5e63f4e",
   "metadata": {},
   "outputs": [],
   "source": [
    "sax_magnitude = np.abs(sax_fft[0])"
   ]
  },
  {
   "cell_type": "code",
   "execution_count": 33,
   "id": "61f7c485-af7b-4229-84fa-ac4a6316a9d0",
   "metadata": {},
   "outputs": [
    {
     "data": {
      "text/plain": [
       "3.45867919921875"
      ]
     },
     "execution_count": 33,
     "metadata": {},
     "output_type": "execute_result"
    }
   ],
   "source": [
    "sax_magnitude[0]"
   ]
  },
  {
   "cell_type": "code",
   "execution_count": 44,
   "id": "a374811f-840f-4ce9-8d11-a5afa52782b3",
   "metadata": {},
   "outputs": [],
   "source": [
    "def plot_spectrum(file_dir,frequency_ratio=1):\n",
    "    waveform, sr = waveform_extractor(file_dir)\n",
    "    fft = np.fft.fft(waveform)\n",
    "    magnitude = np.abs(fft[0])\n",
    "    frequency_bins = np.linspace(0,sr,len(magnitude))\n",
    "    frequencies_to_plot = int(len(frequency_bins)*frequency_ratio)\n",
    "    \n",
    "    \n",
    "    fig, ax = plt.subplots(figsize = (12, 5))\n",
    "    ax.plot(frequency_bins[:frequencies_to_plot],magnitude[:frequencies_to_plot])\n",
    "\n",
    "    \n",
    "    "
   ]
  },
  {
   "cell_type": "markdown",
   "id": "13818c9f-74de-4215-aaed-1ae63643e02c",
   "metadata": {},
   "source": [
    "frequency_ratio is used to remove the redundancy as if we consider  frequency bins  after the Nyquist frequency wil be just  the mirror reflection of the left side.\n",
    "[Go here](https://www.notion.so/afschowdhury/Discrete-Fourier-Transformation-b15b19a90c7b450b96fd38940af9de04#8107ce6ee58140eda5158c1388c1464c) to find out more \n"
   ]
  },
  {
   "cell_type": "code",
   "execution_count": 45,
   "id": "96b74cb9-1194-41c1-829f-6eabe67e4529",
   "metadata": {},
   "outputs": [
    {
     "data": {
      "image/png": "[encoded data removed]",
      "text/plain": [
       "<Figure size 864x360 with 1 Axes>"
      ]
     },
     "metadata": {
      "needs_background": "light"
     },
     "output_type": "display_data"
    }
   ],
   "source": [
    "plot_spectrum(SAX_C4_DIR,0.1)"
   ]
  },
  {
   "cell_type": "code",
   "execution_count": 47,
   "id": "a4db0d91-9160-4947-ae73-6088e3270f6b",
   "metadata": {},
   "outputs": [
    {
     "data": {
      "image/png": "[encoded data removed]",
      "text/plain": [
       "<Figure size 864x360 with 1 Axes>"
      ]
     },
     "metadata": {
      "needs_background": "light"
     },
     "output_type": "display_data"
    }
   ],
   "source": [
    "plot_spectrum(VIOLIN_C4, 0.1)"
   ]
  },
  {
   "cell_type": "code",
   "execution_count": 46,
   "id": "929ff57b-b080-4d49-a4cb-5fe9cfb7fe72",
   "metadata": {},
   "outputs": [
    {
     "data": {
      "image/png": "[encoded data removed]",
      "text/plain": [
       "<Figure size 864x360 with 1 Axes>"
      ]
     },
     "metadata": {
      "needs_background": "light"
     },
     "output_type": "display_data"
    }
   ],
   "source": [
    "plot_spectrum(PIANO_C5,0.1)"
   ]
  },
  {
   "cell_type": "code",
   "execution_count": 50,
   "id": "209e375f-fb61-48c8-b23d-c082bd07e2fb",
   "metadata": {},
   "outputs": [
    {
     "data": {
      "image/png": "[encoded data removed]",
      "text/plain": [
       "<Figure size 864x360 with 1 Axes>"
      ]
     },
     "metadata": {
      "needs_background": "light"
     },
     "output_type": "display_data"
    }
   ],
   "source": [
    "plot_spectrum(NOISE, 0.1)"
   ]
  }
 ],
 "metadata": {
  "kernelspec": {
   "display_name": "Python 3",
   "language": "python",
   "name": "python3"
  },
  "language_info": {
   "codemirror_mode": {
    "name": "ipython",
    "version": 3
   },
   "file_extension": ".py",
   "mimetype": "text/x-python",
   "name": "python",
   "nbconvert_exporter": "python",
   "pygments_lexer": "ipython3",
   "version": "3.8.10"
  }
 },
 "nbformat": 4,
 "nbformat_minor": 5
}
